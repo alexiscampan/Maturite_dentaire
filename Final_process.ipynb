{
 "cells": [
  {
   "cell_type": "code",
   "execution_count": 4,
   "id": "20db7c6c-7bdd-4af9-a75b-df8dc0a37663",
   "metadata": {},
   "outputs": [],
   "source": [
    "# IMPORT ------\n",
    "    #* Dataframe \n",
    "import pandas as pd \n",
    "    #* Matrices \n",
    "import numpy as np\n",
    "    #* Preprocessing \n",
    "from sklearn.impute import KNNImputer\n",
    "from sklearn.decomposition import PCA\n",
    "    #* Splitter \n",
    "from sklearn.model_selection import train_test_split\n",
    "\n",
    "    # Misc\n",
    "import os "
   ]
  },
  {
   "cell_type": "code",
   "execution_count": 5,
   "id": "39976c8f-25eb-47ec-b2f5-596573ddd7aa",
   "metadata": {},
   "outputs": [],
   "source": [
    "# PATH ------\n",
    "base_path = \"/Maturite_dentaire\"\n",
    "data_path = \"data/Teeth\"\n",
    "data_name= \"dataset.csv\"\n",
    "\n",
    "# CWD ------\n",
    "os.chdir(base_path)\n",
    "\n",
    "# IMPORT TYPES ------\n",
    "pandas_types= {'ID':'int','VAL_I1':'category','VAL_I2':'category',\n",
    "            'VAL_C1':'category','VAL_PM1':'category',\n",
    "            'VAL_PM2':'category','VAL_M1':'category',\n",
    "            'VAL_M2':'category','VAL_M3':'category'}\n",
    "\n",
    "# ORDINAL ENCODING ------\n",
    "ord_encoding= {'A':2,'B':3,'C':4,'D':5,'E':6,'F':7,'G':8,'H':9}\n",
    "\n",
    "# RANDOM STATE ------\n",
    "rs= 12345"
   ]
  },
  {
   "cell_type": "markdown",
   "id": "9b908389-858b-447c-9658-26855202e667",
   "metadata": {},
   "source": [
    "# PREPROCESSING "
   ]
  },
  {
   "cell_type": "markdown",
   "id": "f19d0410-5c9b-41fd-aeeb-dc94267fc81d",
   "metadata": {},
   "source": [
    "## IMPORT DATA "
   ]
  },
  {
   "cell_type": "code",
   "execution_count": 6,
   "id": "7924fbc0-52ca-4077-9fee-9551e64ed3a4",
   "metadata": {},
   "outputs": [],
   "source": [
    "# IMPORT DATA ------\n",
    "df = pd.read_csv(os.path.join(data_path,data_name),\n",
    "                 sep=';',\n",
    "                 dtype=pandas_types)\n",
    "\n",
    "# Remove useless columns ---\n",
    "X = df.drop(['ID', 'PAT_AGE'], axis=1)\n",
    "Y = df['PAT_AGE']"
   ]
  },
  {
   "cell_type": "markdown",
   "id": "56abd953-31e8-46ae-bff7-467899197d7e",
   "metadata": {},
   "source": [
    "# Train test split "
   ]
  },
  {
   "cell_type": "code",
   "execution_count": 41,
   "id": "f9700d70-efc8-4c3f-9e62-a439b0e89eda",
   "metadata": {},
   "outputs": [],
   "source": [
    "X_train,X_test, y_train, y_test = train_test_split(X,Y, random_state= rs)  "
   ]
  },
  {
   "cell_type": "code",
   "execution_count": 42,
   "id": "910aa0ed-c4f8-4422-96c6-ba5e78c5464f",
   "metadata": {},
   "outputs": [
    {
     "name": "stdout",
     "output_type": "stream",
     "text": [
      "Shape Training Data : (2135, 9)\n",
      "Shape Testing Data : (712, 9)\n",
      "Shape Training Target : (2135,)\n",
      "Shape Testing Target : (712,)\n"
     ]
    }
   ],
   "source": [
    "print(f\"Shape Training Data : {X_train.shape}\")\n",
    "print(f\"Shape Testing Data : {X_test.shape}\")\n",
    "\n",
    "print(f\"Shape Training Target : {y_train.shape}\")\n",
    "print(f\"Shape Testing Target : {y_test.shape}\")"
   ]
  },
  {
   "cell_type": "code",
   "execution_count": 43,
   "id": "6654f7f0-faed-419d-a82b-fd00e32d81d1",
   "metadata": {},
   "outputs": [],
   "source": [
    "# Save to csv ---\n",
    "X_train.to_csv(os.path.join(data_path,\"X_train.csv\"), index=False)\n",
    "y_train.to_csv(os.path.join(data_path,\"y_train.csv\"), index=False)\n",
    "\n",
    "X_test.to_csv(os.path.join(data_path,\"X_test.csv\"), index=False)\n",
    "y_test.to_csv(os.path.join(data_path,\"y_test.csv\"), index=False)"
   ]
  },
  {
   "cell_type": "markdown",
   "id": "376c5266-c3f2-4999-838e-49672b9a8fc1",
   "metadata": {},
   "source": [
    "## Ordinal encoding "
   ]
  },
  {
   "cell_type": "code",
   "execution_count": 44,
   "id": "8026a0fb-c270-4934-b7f8-765344766a83",
   "metadata": {},
   "outputs": [],
   "source": [
    "# Simple Ordinal Encoding ---\n",
    "X_train.replace(ord_encoding, inplace=True)\n",
    "X_test.replace(ord_encoding, inplace=True)\n",
    "# Saving Ordinal encoded data --- \n",
    "X_train.to_csv(os.path.join(data_path,\"1_X_train_encoded.csv\"),index=False)\n",
    "X_test.to_csv(os.path.join(data_path,\"1_X_test_encoded.csv\"),index=False)"
   ]
  },
  {
   "cell_type": "markdown",
   "id": "2a8d4d02-cfd0-444f-b3b1-b768bfb30a91",
   "metadata": {},
   "source": [
    "## Imputing "
   ]
  },
  {
   "cell_type": "code",
   "execution_count": 64,
   "id": "cce8107c-9ddd-487a-8e71-064b9475d7f2",
   "metadata": {},
   "outputs": [],
   "source": [
    "# IMPUTING STRATEGY ------\n",
    "#df.dropna(inplace=True, subset=['VAL_PM1','VAL_PM2','VAL_M2'])\n",
    "knni= KNNImputer(n_neighbors= 40,weights= \"distance\",add_indicator= True)\n",
    "X_train_imp= knni.fit_transform(X_train.values) \n",
    "X_test_imp= knni.transform(X_test.values) \n",
    "\n",
    "# New columns --- \n",
    "indicator_features= []\n",
    "for i in X_train.columns.values[1:]:\n",
    "    indicator_features.append(i+ \"_missing_indicator\")\n",
    "new_cols= [*list(X_train.columns), *indicator_features]\n",
    "\n",
    "# Saving Ordinal encoded data --- \n",
    "pd.DataFrame(X_train_imp,columns= new_cols).to_csv(os.path.join(data_path,\"2_X_train_encoded.csv\"),index=False)\n",
    "pd.DataFrame(X_test_imp, columns= new_cols).to_csv(os.path.join(data_path,\"2_X_test_encoded.csv\"),index=False)"
   ]
  },
  {
   "cell_type": "markdown",
   "id": "f2a82c09-951d-478c-a74b-4f8ef74e4b14",
   "metadata": {},
   "source": [
    "## Outlier removal "
   ]
  },
  {
   "cell_type": "code",
   "execution_count": 66,
   "id": "b94dd4c1-f356-4324-bc91-3285d0550413",
   "metadata": {},
   "outputs": [],
   "source": [
    "# isolation forest \n"
   ]
  },
  {
   "cell_type": "code",
   "execution_count": 70,
   "id": "cab5116d-b600-4a7b-a666-f233c090a389",
   "metadata": {},
   "outputs": [
    {
     "data": {
      "text/plain": [
       "(2135, 17)"
      ]
     },
     "execution_count": 70,
     "metadata": {},
     "output_type": "execute_result"
    }
   ],
   "source": [
    "inverse_transform_dataset.shape"
   ]
  },
  {
   "cell_type": "code",
   "execution_count": null,
   "id": "8f9d6de1-0fe6-48f0-b5d2-ebeed85a46e6",
   "metadata": {},
   "outputs": [],
   "source": [
    "X = pd.DataFrame(X)\n",
    "Y = pd.DataFrame(Y)\n",
    "X.drop(X.index[to_remove], inplace=True)\n",
    "Y.drop(Y.index[to_remove], inplace=True)\n",
    "Y = np.ravel(Y)"
   ]
  }
 ],
 "metadata": {
  "kernelspec": {
   "display_name": "Python 3 (ipykernel)",
   "language": "python",
   "name": "python3"
  },
  "language_info": {
   "codemirror_mode": {
    "name": "ipython",
    "version": 3
   },
   "file_extension": ".py",
   "mimetype": "text/x-python",
   "name": "python",
   "nbconvert_exporter": "python",
   "pygments_lexer": "ipython3",
   "version": "3.9.6"
  }
 },
 "nbformat": 4,
 "nbformat_minor": 5
}
