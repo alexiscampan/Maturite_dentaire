{
 "cells": [
  {
   "cell_type": "code",
   "execution_count": 819,
   "id": "20db7c6c-7bdd-4af9-a75b-df8dc0a37663",
   "metadata": {},
   "outputs": [],
   "source": [
    "# IMPORT ------\n",
    "    #* Dataframe \n",
    "import pandas as pd \n",
    "    #* Matrices \n",
    "import numpy as np\n",
    "    #* Preprocessing \n",
    "from sklearn.impute import KNNImputer\n",
    "from sklearn.decomposition import PCA\n",
    "from sklearn.ensemble import IsolationForest\n",
    "    #* Splitter \n",
    "from sklearn.model_selection import train_test_split\n",
    "\n",
    "    # Misc\n",
    "import os "
   ]
  },
  {
   "cell_type": "code",
   "execution_count": 820,
   "id": "39976c8f-25eb-47ec-b2f5-596573ddd7aa",
   "metadata": {},
   "outputs": [],
   "source": [
    "# PATH ------\n",
    "# base_path = \"/home/jovyan/work\"  #\"/Maturite_dentaire\"\n",
    "data_path = \"data/Teeth\"\n",
    "data_name= \"dataset.csv\"\n",
    "\n",
    "# CWD ------\n",
    "# os.chdir(base_path)\n",
    "\n",
    "# IMPORT TYPES ------\n",
    "pandas_types= {'ID':'int','VAL_I1':'category','VAL_I2':'category',\n",
    "            'VAL_C1':'category','VAL_PM1':'category',\n",
    "            'VAL_PM2':'category','VAL_M1':'category',\n",
    "            'VAL_M2':'category','VAL_M3':'category'}\n",
    "\n",
    "# ORDINAL ENCODING ------\n",
    "ord_encoding= {'A':2,'B':3,'C':4,'D':5,'E':6,'F':7,'G':8,'H':9}\n",
    "\n",
    "# RANDOM STATE ------\n",
    "rs= 12345"
   ]
  },
  {
   "cell_type": "markdown",
   "id": "9b908389-858b-447c-9658-26855202e667",
   "metadata": {},
   "source": [
    "# PREPROCESSING "
   ]
  },
  {
   "cell_type": "markdown",
   "id": "f19d0410-5c9b-41fd-aeeb-dc94267fc81d",
   "metadata": {},
   "source": [
    "## IMPORT DATA "
   ]
  },
  {
   "cell_type": "code",
   "execution_count": 821,
   "id": "7924fbc0-52ca-4077-9fee-9551e64ed3a4",
   "metadata": {},
   "outputs": [],
   "source": [
    "# IMPORT DATA ------\n",
    "df = pd.read_csv(os.path.join(data_path,data_name),\n",
    "                 sep=';',\n",
    "                 dtype=pandas_types)\n",
    "\n",
    "# Remove useless columns ---\n",
    "X = df.drop(['ID', 'PAT_AGE'], axis=1)\n",
    "Y = df['PAT_AGE']"
   ]
  },
  {
   "cell_type": "markdown",
   "id": "56abd953-31e8-46ae-bff7-467899197d7e",
   "metadata": {},
   "source": [
    "# Train test split "
   ]
  },
  {
   "cell_type": "code",
   "execution_count": 822,
   "id": "f9700d70-efc8-4c3f-9e62-a439b0e89eda",
   "metadata": {},
   "outputs": [],
   "source": [
    "X_train,X_test, y_train, y_test = train_test_split(X,Y, random_state= rs)  "
   ]
  },
  {
   "cell_type": "code",
   "execution_count": 823,
   "id": "910aa0ed-c4f8-4422-96c6-ba5e78c5464f",
   "metadata": {},
   "outputs": [
    {
     "name": "stdout",
     "output_type": "stream",
     "text": [
      "Shape Training Data : (2135, 9)\n",
      "Shape Testing Data : (712, 9)\n",
      "Shape Training Target : (2135,)\n",
      "Shape Testing Target : (712,)\n"
     ]
    }
   ],
   "source": [
    "print(f\"Shape Training Data : {X_train.shape}\")\n",
    "print(f\"Shape Testing Data : {X_test.shape}\")\n",
    "\n",
    "print(f\"Shape Training Target : {y_train.shape}\")\n",
    "print(f\"Shape Testing Target : {y_test.shape}\")"
   ]
  },
  {
   "cell_type": "code",
   "execution_count": 824,
   "id": "6654f7f0-faed-419d-a82b-fd00e32d81d1",
   "metadata": {},
   "outputs": [],
   "source": [
    "# Save to csv ---\n",
    "X_train.to_csv(os.path.join(data_path,\"X_train.csv\"), index=False)\n",
    "y_train.to_csv(os.path.join(data_path,\"y_train.csv\"), index=False)\n",
    "\n",
    "X_test.to_csv(os.path.join(data_path,\"X_test.csv\"), index=False)\n",
    "y_test.to_csv(os.path.join(data_path,\"y_test.csv\"), index=False)"
   ]
  },
  {
   "cell_type": "markdown",
   "id": "376c5266-c3f2-4999-838e-49672b9a8fc1",
   "metadata": {},
   "source": [
    "## Ordinal encoding "
   ]
  },
  {
   "cell_type": "code",
   "execution_count": 825,
   "id": "8026a0fb-c270-4934-b7f8-765344766a83",
   "metadata": {},
   "outputs": [],
   "source": [
    "# Simple Ordinal Encoding ---\n",
    "X_train.replace(ord_encoding, inplace=True)\n",
    "X_test.replace(ord_encoding, inplace=True)\n",
    "\n",
    "# Saving Ordinal encoded data --- \n",
    "X_train.to_csv(os.path.join(data_path,\"1_X_train_encoded.csv\"),index=False)\n",
    "X_test.to_csv(os.path.join(data_path,\"1_X_test_encoded.csv\"),index=False)"
   ]
  },
  {
   "cell_type": "markdown",
   "id": "0a80bb0d-d056-4028-9278-83d0c5cdeaf2",
   "metadata": {},
   "source": [
    "## Removing outliers "
   ]
  },
  {
   "cell_type": "code",
   "execution_count": 826,
   "id": "85410d5b-67e2-4202-8904-274831805ab8",
   "metadata": {},
   "outputs": [
    {
     "name": "stdout",
     "output_type": "stream",
     "text": [
      "Number of samples removed from trainin data : (118,)\n"
     ]
    }
   ],
   "source": [
    "# Remove all samples for which at least 7 out of 8 teeth info is missing --- \n",
    "to_rm = np.where(np.sum(pd.isna(X_train),axis=1)>=7)[0] # rowsums : looking for >= 7\n",
    "X_train = X_train.reset_index(drop=True).drop(to_rm,axis=0) # remove rows from training \n",
    "y_train = y_train.reset_index(drop=True).drop(to_rm,axis=0) # remove rows from labels \n",
    "\n",
    "# reset indexes --- \n",
    "X_train.reset_index(drop= True, inplace=True)\n",
    "y_train.reset_index(drop= True, inplace=True)\n",
    "\n",
    "# Printing n° of rows removed : \n",
    "print(f\"Number of samples removed from trainin data : {to_rm.shape}\")"
   ]
  },
  {
   "cell_type": "markdown",
   "id": "8865fe2a-ad6a-4f63-8c0c-1dd9767fec13",
   "metadata": {
    "tags": []
   },
   "source": [
    "# TRAIN VAL TEST SPLIT \n",
    "\n",
    "- Training \n",
    "- Validation \n",
    "- Testing"
   ]
  },
  {
   "cell_type": "code",
   "execution_count": 827,
   "id": "35ca7f0c-07d6-475b-810c-58505c2ab3c3",
   "metadata": {},
   "outputs": [],
   "source": [
    "X_train, X_val, y_train, y_val = train_test_split(X_train,y_train, random_state= rs,test_size=0.1)"
   ]
  },
  {
   "cell_type": "code",
   "execution_count": 828,
   "id": "d76f5309-e3ae-4323-bb5a-9f0b098de0e7",
   "metadata": {},
   "outputs": [
    {
     "name": "stdout",
     "output_type": "stream",
     "text": [
      "Shape Training Data : (1815, 9)\n",
      "Shape Training Target : (1815,)\n",
      "\n",
      "\n",
      "Shape Validation Target : (202, 9)\n",
      "Shape Validation Data : (202,)\n",
      "\n",
      "\n",
      "Shape Testing Data : (712, 9)\n",
      "Shape Testing Target : (712,)\n"
     ]
    }
   ],
   "source": [
    "print(f\"Shape Training Data : {X_train.shape}\")\n",
    "print(f\"Shape Training Target : {y_train.shape}\")\n",
    "print(\"\\n\")\n",
    "print(f\"Shape Validation Target : {X_val.shape}\")\n",
    "print(f\"Shape Validation Data : {y_val.shape}\")\n",
    "print(\"\\n\")\n",
    "print(f\"Shape Testing Data : {X_test.shape}\")\n",
    "print(f\"Shape Testing Target : {y_test.shape}\")"
   ]
  },
  {
   "cell_type": "markdown",
   "id": "2a8d4d02-cfd0-444f-b3b1-b768bfb30a91",
   "metadata": {},
   "source": [
    "## Imputing "
   ]
  },
  {
   "cell_type": "code",
   "execution_count": 829,
   "id": "cce8107c-9ddd-487a-8e71-064b9475d7f2",
   "metadata": {},
   "outputs": [],
   "source": [
    "# IMPUTING STRATEGY ------\n",
    "knni= KNNImputer(n_neighbors= 40,weights= \"distance\",add_indicator= True)\n",
    "X_train= knni.fit_transform(X_train.values) \n",
    "X_val= knni.transform(X_val.values) \n",
    "X_test= knni.transform(X_test.values) \n",
    "\n",
    "# New columns --- \n",
    "indicator_features= []\n",
    "for i in X.columns.values[1:]:\n",
    "    indicator_features.append(i+ \"_missing_indicator\")\n",
    "new_cols= [*list(X.columns), *indicator_features]\n",
    "\n",
    "# Saving Ordinal encoded data --- \n",
    "pd.DataFrame(X_train,columns= new_cols).to_csv(os.path.join(data_path,\"2_X_train_encoded.csv\"),index=False)\n",
    "pd.DataFrame(X_val,columns= new_cols).to_csv(os.path.join(data_path,\"2_X_val_encoded.csv\"),index=False)\n",
    "pd.DataFrame(X_test, columns= new_cols).to_csv(os.path.join(data_path,\"2_X_test_encoded.csv\"),index=False)"
   ]
  },
  {
   "cell_type": "markdown",
   "id": "f2a82c09-951d-478c-a74b-4f8ef74e4b14",
   "metadata": {},
   "source": [
    "## Outlier removal "
   ]
  },
  {
   "cell_type": "code",
   "execution_count": 830,
   "id": "b94dd4c1-f356-4324-bc91-3285d0550413",
   "metadata": {},
   "outputs": [],
   "source": [
    "# isolation forest \n",
    "#train ---\n",
    "Y_pred_train = IsolationForest(random_state=rs,bootstrap=True,contamination=0.05).fit_predict(X_train) # fit outlier detection # Returns -1 for outliers and 1 for inliers.\n",
    "inliers = np.where(Y_pred_train == 1)[0] # which samples to keep \n",
    "    #* Keep non outliers\n",
    "X_train = X_train[inliers,:]\n",
    "y_train = y_train.reset_index(drop=True)[inliers]"
   ]
  },
  {
   "cell_type": "code",
   "execution_count": 831,
   "id": "7e66759d-970a-47d1-836a-b62c8cbdf216",
   "metadata": {},
   "outputs": [
    {
     "name": "stdout",
     "output_type": "stream",
     "text": [
      "Shape Training Data : (1726, 17)\n",
      "Shape Training Labels Data : (1726,)\n"
     ]
    }
   ],
   "source": [
    "print(f\"Shape Training Data : {X_train.shape}\")\n",
    "print(f\"Shape Training Labels Data : {y_train.shape}\")"
   ]
  },
  {
   "cell_type": "code",
   "execution_count": 832,
   "id": "4913752c-9e59-4407-aed1-fd4c2ba328fa",
   "metadata": {},
   "outputs": [],
   "source": [
    "# Saving preprocesssed data --- \n",
    "    #* Train \n",
    "pd.DataFrame(X_train,columns= new_cols).to_csv(os.path.join(data_path,\"3_X_train_outlier.csv\"),index=False)\n",
    "pd.Series(y_train,name=\"Age\").to_csv(os.path.join(data_path,\"3_y_train_outlier.csv\"),index=False)\n",
    "    #* val \n",
    "pd.DataFrame(X_val,columns= new_cols).to_csv(os.path.join(data_path,\"3_X_val_outlier.csv\"),index=False)\n",
    "pd.Series(y_val,name=\"Age\").to_csv(os.path.join(data_path,\"3_y_val_outlier.csv\"),index=False)\n",
    "    #* Train \n",
    "pd.DataFrame(X_test,columns= new_cols).to_csv(os.path.join(data_path,\"3_X_test_outlier.csv\"),index=False)\n",
    "pd.Series(y_test,name=\"Age\").to_csv(os.path.join(data_path,\"3_y_test_outlier.csv\"),index=False)"
   ]
  },
  {
   "cell_type": "code",
   "execution_count": 833,
   "id": "247e4cd2",
   "metadata": {},
   "outputs": [],
   "source": [
    "import xgboost as xgb\n"
   ]
  },
  {
   "cell_type": "code",
   "execution_count": 834,
   "id": "3969db1c-36b8-4169-adf3-74bacc7047cb",
   "metadata": {},
   "outputs": [
    {
     "name": "stdout",
     "output_type": "stream",
     "text": [
      "[20:55:06] WARNING: C:/Users/Administrator/workspace/xgboost-win64_release_1.5.1/src/learner.cc:576: \n",
      "Parameters: { \"metric\" } might not be used.\n",
      "\n",
      "  This could be a false alarm, with some parameters getting used by language bindings but\n",
      "  then being mistakenly passed down to XGBoost core, or some parameter actually being used\n",
      "  but getting flagged wrongly here. Please open an issue if you find any such cases.\n",
      "\n",
      "\n"
     ]
    },
    {
     "data": {
      "text/plain": [
       "XGBRegressor(base_score=0.5, booster='gbtree', colsample_bylevel=1,\n",
       "             colsample_bynode=1, colsample_bytree=0.8, enable_categorical=False,\n",
       "             gamma=0.1, gpu_id=-1, importance_type=None,\n",
       "             interaction_constraints='', learning_rate=0.300000012,\n",
       "             max_delta_step=0, max_depth=4, metric='mae', min_child_weight=5,\n",
       "             missing=nan, monotone_constraints='()', n_estimators=100, n_jobs=8,\n",
       "             num_parallel_tree=1, objective='reg:gamma', predictor='auto',\n",
       "             random_state=12345, reg_alpha=0, reg_lambda=0.01,\n",
       "             scale_pos_weight=None, subsample=0.8, tree_method='exact',\n",
       "             validate_parameters=1, verbosity=None)"
      ]
     },
     "execution_count": 834,
     "metadata": {},
     "output_type": "execute_result"
    }
   ],
   "source": [
    "objective = \"reg:squaredlogerror\"  # metric RMSLE\n",
    "objective = \"reg:squarederror\" # RMSLE STUCKED ...\n",
    "objective = \"reg:gamma\"\n",
    "metric = \"mae\"\n",
    "reg = xgb.XGBRegressor(colsample_bytree=0.8, gamma=0.1, max_depth=4,reg_lambda=0.01,n_estimators=100,\n",
    "              min_child_weight=5, metric=metric,\n",
    "              objective=objective,subsample=0.8, random_state=rs)\n",
    "reg.fit(X=X_train,\n",
    "            y=y_train,\n",
    "            eval_set=((X_train,y_train),(X_val,y_val)),  # Validation set for early stopping (validates on test -- last data tuple)\n",
    "            early_stopping_rounds=100,\n",
    "            verbose=0,\n",
    "            eval_metric=[\"mae\"]\n",
    "        )"
   ]
  },
  {
   "cell_type": "code",
   "execution_count": 835,
   "id": "2fcebb67",
   "metadata": {},
   "outputs": [
    {
     "data": {
      "text/plain": [
       "1.177415287521448"
      ]
     },
     "execution_count": 835,
     "metadata": {},
     "output_type": "execute_result"
    }
   ],
   "source": [
    "from sklearn.metrics import mean_absolute_error\n",
    "mean_absolute_error(reg.predict(X_test), y_test)"
   ]
  },
  {
   "cell_type": "code",
   "execution_count": 836,
   "id": "604d5d1a",
   "metadata": {},
   "outputs": [
    {
     "data": {
      "text/plain": [
       "1.045026"
      ]
     },
     "execution_count": 836,
     "metadata": {},
     "output_type": "execute_result"
    }
   ],
   "source": [
    "import numpy as np\n",
    "np.min(reg.evals_result_['validation_1']['mae'])"
   ]
  },
  {
   "cell_type": "code",
   "execution_count": 837,
   "id": "8dd8584c",
   "metadata": {},
   "outputs": [
    {
     "data": {
      "application/vnd.plotly.v1+json": {
       "config": {
        "plotlyServerURL": "https://plot.ly"
       },
       "data": [
        {
         "hovertemplate": "variable=wide_variable_0<br>index=%{x}<br>value=%{y}<extra></extra>",
         "legendgroup": "wide_variable_0",
         "line": {
          "color": "#636efa",
          "dash": "solid"
         },
         "marker": {
          "symbol": "circle"
         },
         "mode": "lines",
         "name": "wide_variable_0",
         "orientation": "v",
         "showlegend": true,
         "type": "scatter",
         "x": [
          0,
          1,
          2,
          3,
          4,
          5,
          6,
          7,
          8,
          9,
          10,
          11,
          12,
          13,
          14,
          15,
          16,
          17,
          18,
          19,
          20,
          21,
          22,
          23,
          24,
          25,
          26,
          27,
          28,
          29,
          30,
          31,
          32,
          33,
          34,
          35,
          36,
          37,
          38,
          39,
          40,
          41,
          42,
          43,
          44,
          45,
          46,
          47,
          48,
          49,
          50,
          51,
          52,
          53,
          54,
          55,
          56,
          57,
          58,
          59,
          60,
          61,
          62,
          63,
          64,
          65,
          66,
          67,
          68,
          69,
          70,
          71,
          72,
          73,
          74,
          75,
          76,
          77,
          78,
          79,
          80,
          81,
          82,
          83,
          84,
          85,
          86,
          87,
          88,
          89,
          90,
          91,
          92,
          93,
          94,
          95,
          96,
          97,
          98,
          99
         ],
         "xaxis": "x",
         "y": [
          11.726095,
          11.510204,
          11.231093,
          10.875205,
          10.429034,
          9.880846,
          9.224915,
          8.462868,
          7.606667,
          6.680531,
          5.723748,
          4.779303,
          3.887645,
          3.094368,
          2.424611,
          1.921778,
          1.563908,
          1.333654,
          1.194668,
          1.115815,
          1.078958,
          1.057377,
          1.041809,
          1.034014,
          1.032475,
          1.032578,
          1.032933,
          1.027424,
          1.027662,
          1.027751,
          1.027836,
          1.0278,
          1.027706,
          1.027853,
          1.028148,
          1.024513,
          1.02471,
          1.025115,
          1.024863,
          1.025,
          1.024701,
          1.024969,
          1.024835,
          1.024666,
          1.02464,
          1.024797,
          1.02474,
          1.024601,
          1.024841,
          1.025087,
          1.024697,
          1.022183,
          1.022153,
          1.021887,
          1.021579,
          1.02172,
          1.021772,
          1.02203,
          1.021928,
          1.021805,
          1.021458,
          1.019758,
          1.019842,
          1.01972,
          1.019461,
          1.019495,
          1.019642,
          1.019758,
          1.019814,
          1.019899,
          1.020072,
          1.020214,
          1.020219,
          1.020577,
          1.020469,
          1.020111,
          1.019842,
          1.019949,
          1.020072,
          1.020167,
          1.019922,
          1.019833,
          1.019918,
          1.019472,
          1.01991,
          1.019922,
          1.020166,
          1.01975,
          1.019794,
          1.019904,
          1.019743,
          1.019721,
          1.01445,
          1.014064,
          1.013956,
          1.014048,
          1.013829,
          1.014018,
          1.013976,
          1.01393
         ],
         "yaxis": "y"
        },
        {
         "hovertemplate": "variable=wide_variable_1<br>index=%{x}<br>value=%{y}<extra></extra>",
         "legendgroup": "wide_variable_1",
         "line": {
          "color": "#EF553B",
          "dash": "solid"
         },
         "marker": {
          "symbol": "circle"
         },
         "mode": "lines",
         "name": "wide_variable_1",
         "orientation": "v",
         "showlegend": true,
         "type": "scatter",
         "x": [
          0,
          1,
          2,
          3,
          4,
          5,
          6,
          7,
          8,
          9,
          10,
          11,
          12,
          13,
          14,
          15,
          16,
          17,
          18,
          19,
          20,
          21,
          22,
          23,
          24,
          25,
          26,
          27,
          28,
          29,
          30,
          31,
          32,
          33,
          34,
          35,
          36,
          37,
          38,
          39,
          40,
          41,
          42,
          43,
          44,
          45,
          46,
          47,
          48,
          49,
          50,
          51,
          52,
          53,
          54,
          55,
          56,
          57,
          58,
          59,
          60,
          61,
          62,
          63,
          64,
          65,
          66,
          67,
          68,
          69,
          70,
          71,
          72,
          73,
          74,
          75,
          76,
          77,
          78,
          79,
          80,
          81,
          82,
          83,
          84,
          85,
          86,
          87,
          88,
          89,
          90,
          91,
          92,
          93,
          94,
          95,
          96,
          97,
          98,
          99
         ],
         "xaxis": "x",
         "y": [
          11.46157,
          11.245719,
          10.966626,
          10.610691,
          10.165054,
          9.617981,
          8.965343,
          8.208362,
          7.363288,
          6.45337,
          5.517748,
          4.596801,
          3.729462,
          2.978632,
          2.351434,
          1.904114,
          1.595098,
          1.393609,
          1.254045,
          1.180326,
          1.143977,
          1.115756,
          1.096578,
          1.08252,
          1.078635,
          1.076767,
          1.075292,
          1.064715,
          1.064264,
          1.064099,
          1.063947,
          1.064011,
          1.064182,
          1.063917,
          1.063465,
          1.059492,
          1.059159,
          1.058568,
          1.058924,
          1.058727,
          1.059175,
          1.05877,
          1.058965,
          1.059234,
          1.059277,
          1.059022,
          1.059111,
          1.059342,
          1.058957,
          1.058604,
          1.059182,
          1.05276,
          1.05279,
          1.053075,
          1.053546,
          1.053322,
          1.053241,
          1.052914,
          1.053027,
          1.053191,
          1.053745,
          1.052725,
          1.052617,
          1.052777,
          1.053174,
          1.053107,
          1.052888,
          1.052724,
          1.052652,
          1.052542,
          1.05233,
          1.052171,
          1.052167,
          1.051868,
          1.051957,
          1.052285,
          1.052616,
          1.05248,
          1.052331,
          1.052222,
          1.052513,
          1.052627,
          1.052518,
          1.053154,
          1.05253,
          1.052513,
          1.052223,
          1.052736,
          1.052678,
          1.052536,
          1.052745,
          1.052776,
          1.045026,
          1.045358,
          1.045489,
          1.045375,
          1.045661,
          1.04541,
          1.045462,
          1.045523
         ],
         "yaxis": "y"
        }
       ],
       "layout": {
        "legend": {
         "title": {
          "text": "variable"
         },
         "tracegroupgap": 0
        },
        "margin": {
         "t": 60
        },
        "template": {
         "data": {
          "bar": [
           {
            "error_x": {
             "color": "#2a3f5f"
            },
            "error_y": {
             "color": "#2a3f5f"
            },
            "marker": {
             "line": {
              "color": "#E5ECF6",
              "width": 0.5
             },
             "pattern": {
              "fillmode": "overlay",
              "size": 10,
              "solidity": 0.2
             }
            },
            "type": "bar"
           }
          ],
          "barpolar": [
           {
            "marker": {
             "line": {
              "color": "#E5ECF6",
              "width": 0.5
             },
             "pattern": {
              "fillmode": "overlay",
              "size": 10,
              "solidity": 0.2
             }
            },
            "type": "barpolar"
           }
          ],
          "carpet": [
           {
            "aaxis": {
             "endlinecolor": "#2a3f5f",
             "gridcolor": "white",
             "linecolor": "white",
             "minorgridcolor": "white",
             "startlinecolor": "#2a3f5f"
            },
            "baxis": {
             "endlinecolor": "#2a3f5f",
             "gridcolor": "white",
             "linecolor": "white",
             "minorgridcolor": "white",
             "startlinecolor": "#2a3f5f"
            },
            "type": "carpet"
           }
          ],
          "choropleth": [
           {
            "colorbar": {
             "outlinewidth": 0,
             "ticks": ""
            },
            "type": "choropleth"
           }
          ],
          "contour": [
           {
            "colorbar": {
             "outlinewidth": 0,
             "ticks": ""
            },
            "colorscale": [
             [
              0,
              "#0d0887"
             ],
             [
              0.1111111111111111,
              "#46039f"
             ],
             [
              0.2222222222222222,
              "#7201a8"
             ],
             [
              0.3333333333333333,
              "#9c179e"
             ],
             [
              0.4444444444444444,
              "#bd3786"
             ],
             [
              0.5555555555555556,
              "#d8576b"
             ],
             [
              0.6666666666666666,
              "#ed7953"
             ],
             [
              0.7777777777777778,
              "#fb9f3a"
             ],
             [
              0.8888888888888888,
              "#fdca26"
             ],
             [
              1,
              "#f0f921"
             ]
            ],
            "type": "contour"
           }
          ],
          "contourcarpet": [
           {
            "colorbar": {
             "outlinewidth": 0,
             "ticks": ""
            },
            "type": "contourcarpet"
           }
          ],
          "heatmap": [
           {
            "colorbar": {
             "outlinewidth": 0,
             "ticks": ""
            },
            "colorscale": [
             [
              0,
              "#0d0887"
             ],
             [
              0.1111111111111111,
              "#46039f"
             ],
             [
              0.2222222222222222,
              "#7201a8"
             ],
             [
              0.3333333333333333,
              "#9c179e"
             ],
             [
              0.4444444444444444,
              "#bd3786"
             ],
             [
              0.5555555555555556,
              "#d8576b"
             ],
             [
              0.6666666666666666,
              "#ed7953"
             ],
             [
              0.7777777777777778,
              "#fb9f3a"
             ],
             [
              0.8888888888888888,
              "#fdca26"
             ],
             [
              1,
              "#f0f921"
             ]
            ],
            "type": "heatmap"
           }
          ],
          "heatmapgl": [
           {
            "colorbar": {
             "outlinewidth": 0,
             "ticks": ""
            },
            "colorscale": [
             [
              0,
              "#0d0887"
             ],
             [
              0.1111111111111111,
              "#46039f"
             ],
             [
              0.2222222222222222,
              "#7201a8"
             ],
             [
              0.3333333333333333,
              "#9c179e"
             ],
             [
              0.4444444444444444,
              "#bd3786"
             ],
             [
              0.5555555555555556,
              "#d8576b"
             ],
             [
              0.6666666666666666,
              "#ed7953"
             ],
             [
              0.7777777777777778,
              "#fb9f3a"
             ],
             [
              0.8888888888888888,
              "#fdca26"
             ],
             [
              1,
              "#f0f921"
             ]
            ],
            "type": "heatmapgl"
           }
          ],
          "histogram": [
           {
            "marker": {
             "pattern": {
              "fillmode": "overlay",
              "size": 10,
              "solidity": 0.2
             }
            },
            "type": "histogram"
           }
          ],
          "histogram2d": [
           {
            "colorbar": {
             "outlinewidth": 0,
             "ticks": ""
            },
            "colorscale": [
             [
              0,
              "#0d0887"
             ],
             [
              0.1111111111111111,
              "#46039f"
             ],
             [
              0.2222222222222222,
              "#7201a8"
             ],
             [
              0.3333333333333333,
              "#9c179e"
             ],
             [
              0.4444444444444444,
              "#bd3786"
             ],
             [
              0.5555555555555556,
              "#d8576b"
             ],
             [
              0.6666666666666666,
              "#ed7953"
             ],
             [
              0.7777777777777778,
              "#fb9f3a"
             ],
             [
              0.8888888888888888,
              "#fdca26"
             ],
             [
              1,
              "#f0f921"
             ]
            ],
            "type": "histogram2d"
           }
          ],
          "histogram2dcontour": [
           {
            "colorbar": {
             "outlinewidth": 0,
             "ticks": ""
            },
            "colorscale": [
             [
              0,
              "#0d0887"
             ],
             [
              0.1111111111111111,
              "#46039f"
             ],
             [
              0.2222222222222222,
              "#7201a8"
             ],
             [
              0.3333333333333333,
              "#9c179e"
             ],
             [
              0.4444444444444444,
              "#bd3786"
             ],
             [
              0.5555555555555556,
              "#d8576b"
             ],
             [
              0.6666666666666666,
              "#ed7953"
             ],
             [
              0.7777777777777778,
              "#fb9f3a"
             ],
             [
              0.8888888888888888,
              "#fdca26"
             ],
             [
              1,
              "#f0f921"
             ]
            ],
            "type": "histogram2dcontour"
           }
          ],
          "mesh3d": [
           {
            "colorbar": {
             "outlinewidth": 0,
             "ticks": ""
            },
            "type": "mesh3d"
           }
          ],
          "parcoords": [
           {
            "line": {
             "colorbar": {
              "outlinewidth": 0,
              "ticks": ""
             }
            },
            "type": "parcoords"
           }
          ],
          "pie": [
           {
            "automargin": true,
            "type": "pie"
           }
          ],
          "scatter": [
           {
            "marker": {
             "colorbar": {
              "outlinewidth": 0,
              "ticks": ""
             }
            },
            "type": "scatter"
           }
          ],
          "scatter3d": [
           {
            "line": {
             "colorbar": {
              "outlinewidth": 0,
              "ticks": ""
             }
            },
            "marker": {
             "colorbar": {
              "outlinewidth": 0,
              "ticks": ""
             }
            },
            "type": "scatter3d"
           }
          ],
          "scattercarpet": [
           {
            "marker": {
             "colorbar": {
              "outlinewidth": 0,
              "ticks": ""
             }
            },
            "type": "scattercarpet"
           }
          ],
          "scattergeo": [
           {
            "marker": {
             "colorbar": {
              "outlinewidth": 0,
              "ticks": ""
             }
            },
            "type": "scattergeo"
           }
          ],
          "scattergl": [
           {
            "marker": {
             "colorbar": {
              "outlinewidth": 0,
              "ticks": ""
             }
            },
            "type": "scattergl"
           }
          ],
          "scattermapbox": [
           {
            "marker": {
             "colorbar": {
              "outlinewidth": 0,
              "ticks": ""
             }
            },
            "type": "scattermapbox"
           }
          ],
          "scatterpolar": [
           {
            "marker": {
             "colorbar": {
              "outlinewidth": 0,
              "ticks": ""
             }
            },
            "type": "scatterpolar"
           }
          ],
          "scatterpolargl": [
           {
            "marker": {
             "colorbar": {
              "outlinewidth": 0,
              "ticks": ""
             }
            },
            "type": "scatterpolargl"
           }
          ],
          "scatterternary": [
           {
            "marker": {
             "colorbar": {
              "outlinewidth": 0,
              "ticks": ""
             }
            },
            "type": "scatterternary"
           }
          ],
          "surface": [
           {
            "colorbar": {
             "outlinewidth": 0,
             "ticks": ""
            },
            "colorscale": [
             [
              0,
              "#0d0887"
             ],
             [
              0.1111111111111111,
              "#46039f"
             ],
             [
              0.2222222222222222,
              "#7201a8"
             ],
             [
              0.3333333333333333,
              "#9c179e"
             ],
             [
              0.4444444444444444,
              "#bd3786"
             ],
             [
              0.5555555555555556,
              "#d8576b"
             ],
             [
              0.6666666666666666,
              "#ed7953"
             ],
             [
              0.7777777777777778,
              "#fb9f3a"
             ],
             [
              0.8888888888888888,
              "#fdca26"
             ],
             [
              1,
              "#f0f921"
             ]
            ],
            "type": "surface"
           }
          ],
          "table": [
           {
            "cells": {
             "fill": {
              "color": "#EBF0F8"
             },
             "line": {
              "color": "white"
             }
            },
            "header": {
             "fill": {
              "color": "#C8D4E3"
             },
             "line": {
              "color": "white"
             }
            },
            "type": "table"
           }
          ]
         },
         "layout": {
          "annotationdefaults": {
           "arrowcolor": "#2a3f5f",
           "arrowhead": 0,
           "arrowwidth": 1
          },
          "autotypenumbers": "strict",
          "coloraxis": {
           "colorbar": {
            "outlinewidth": 0,
            "ticks": ""
           }
          },
          "colorscale": {
           "diverging": [
            [
             0,
             "#8e0152"
            ],
            [
             0.1,
             "#c51b7d"
            ],
            [
             0.2,
             "#de77ae"
            ],
            [
             0.3,
             "#f1b6da"
            ],
            [
             0.4,
             "#fde0ef"
            ],
            [
             0.5,
             "#f7f7f7"
            ],
            [
             0.6,
             "#e6f5d0"
            ],
            [
             0.7,
             "#b8e186"
            ],
            [
             0.8,
             "#7fbc41"
            ],
            [
             0.9,
             "#4d9221"
            ],
            [
             1,
             "#276419"
            ]
           ],
           "sequential": [
            [
             0,
             "#0d0887"
            ],
            [
             0.1111111111111111,
             "#46039f"
            ],
            [
             0.2222222222222222,
             "#7201a8"
            ],
            [
             0.3333333333333333,
             "#9c179e"
            ],
            [
             0.4444444444444444,
             "#bd3786"
            ],
            [
             0.5555555555555556,
             "#d8576b"
            ],
            [
             0.6666666666666666,
             "#ed7953"
            ],
            [
             0.7777777777777778,
             "#fb9f3a"
            ],
            [
             0.8888888888888888,
             "#fdca26"
            ],
            [
             1,
             "#f0f921"
            ]
           ],
           "sequentialminus": [
            [
             0,
             "#0d0887"
            ],
            [
             0.1111111111111111,
             "#46039f"
            ],
            [
             0.2222222222222222,
             "#7201a8"
            ],
            [
             0.3333333333333333,
             "#9c179e"
            ],
            [
             0.4444444444444444,
             "#bd3786"
            ],
            [
             0.5555555555555556,
             "#d8576b"
            ],
            [
             0.6666666666666666,
             "#ed7953"
            ],
            [
             0.7777777777777778,
             "#fb9f3a"
            ],
            [
             0.8888888888888888,
             "#fdca26"
            ],
            [
             1,
             "#f0f921"
            ]
           ]
          },
          "colorway": [
           "#636efa",
           "#EF553B",
           "#00cc96",
           "#ab63fa",
           "#FFA15A",
           "#19d3f3",
           "#FF6692",
           "#B6E880",
           "#FF97FF",
           "#FECB52"
          ],
          "font": {
           "color": "#2a3f5f"
          },
          "geo": {
           "bgcolor": "white",
           "lakecolor": "white",
           "landcolor": "#E5ECF6",
           "showlakes": true,
           "showland": true,
           "subunitcolor": "white"
          },
          "hoverlabel": {
           "align": "left"
          },
          "hovermode": "closest",
          "mapbox": {
           "style": "light"
          },
          "paper_bgcolor": "white",
          "plot_bgcolor": "#E5ECF6",
          "polar": {
           "angularaxis": {
            "gridcolor": "white",
            "linecolor": "white",
            "ticks": ""
           },
           "bgcolor": "#E5ECF6",
           "radialaxis": {
            "gridcolor": "white",
            "linecolor": "white",
            "ticks": ""
           }
          },
          "scene": {
           "xaxis": {
            "backgroundcolor": "#E5ECF6",
            "gridcolor": "white",
            "gridwidth": 2,
            "linecolor": "white",
            "showbackground": true,
            "ticks": "",
            "zerolinecolor": "white"
           },
           "yaxis": {
            "backgroundcolor": "#E5ECF6",
            "gridcolor": "white",
            "gridwidth": 2,
            "linecolor": "white",
            "showbackground": true,
            "ticks": "",
            "zerolinecolor": "white"
           },
           "zaxis": {
            "backgroundcolor": "#E5ECF6",
            "gridcolor": "white",
            "gridwidth": 2,
            "linecolor": "white",
            "showbackground": true,
            "ticks": "",
            "zerolinecolor": "white"
           }
          },
          "shapedefaults": {
           "line": {
            "color": "#2a3f5f"
           }
          },
          "ternary": {
           "aaxis": {
            "gridcolor": "white",
            "linecolor": "white",
            "ticks": ""
           },
           "baxis": {
            "gridcolor": "white",
            "linecolor": "white",
            "ticks": ""
           },
           "bgcolor": "#E5ECF6",
           "caxis": {
            "gridcolor": "white",
            "linecolor": "white",
            "ticks": ""
           }
          },
          "title": {
           "x": 0.05
          },
          "xaxis": {
           "automargin": true,
           "gridcolor": "white",
           "linecolor": "white",
           "ticks": "",
           "title": {
            "standoff": 15
           },
           "zerolinecolor": "white",
           "zerolinewidth": 2
          },
          "yaxis": {
           "automargin": true,
           "gridcolor": "white",
           "linecolor": "white",
           "ticks": "",
           "title": {
            "standoff": 15
           },
           "zerolinecolor": "white",
           "zerolinewidth": 2
          }
         }
        },
        "xaxis": {
         "anchor": "y",
         "domain": [
          0,
          1
         ],
         "title": {
          "text": "index"
         }
        },
        "yaxis": {
         "anchor": "x",
         "domain": [
          0,
          1
         ],
         "title": {
          "text": "value"
         }
        }
       }
      }
     },
     "metadata": {},
     "output_type": "display_data"
    }
   ],
   "source": [
    "import plotly.express as px\n",
    "px.line(y=[reg.evals_result_['validation_0']['mae'], reg.evals_result_['validation_1']['mae']])"
   ]
  },
  {
   "cell_type": "code",
   "execution_count": 844,
   "id": "de6ecc6f",
   "metadata": {},
   "outputs": [
    {
     "name": "stdout",
     "output_type": "stream",
     "text": [
      "Model: \"sequential_1\"\n",
      "_________________________________________________________________\n",
      "Layer (type)                 Output Shape              Param #   \n",
      "=================================================================\n",
      "batch_normalization_4 (Batch (None, 17)                68        \n",
      "_________________________________________________________________\n",
      "dense_4 (Dense)              (None, 100)               1800      \n",
      "_________________________________________________________________\n",
      "dropout_3 (Dropout)          (None, 100)               0         \n",
      "_________________________________________________________________\n",
      "batch_normalization_5 (Batch (None, 100)               400       \n",
      "_________________________________________________________________\n",
      "dense_5 (Dense)              (None, 100)               10100     \n",
      "_________________________________________________________________\n",
      "dropout_4 (Dropout)          (None, 100)               0         \n",
      "_________________________________________________________________\n",
      "batch_normalization_6 (Batch (None, 100)               400       \n",
      "_________________________________________________________________\n",
      "dense_6 (Dense)              (None, 100)               10100     \n",
      "_________________________________________________________________\n",
      "dropout_5 (Dropout)          (None, 100)               0         \n",
      "_________________________________________________________________\n",
      "batch_normalization_7 (Batch (None, 100)               400       \n",
      "_________________________________________________________________\n",
      "dense_7 (Dense)              (None, 1)                 101       \n",
      "=================================================================\n",
      "Total params: 23,369\n",
      "Trainable params: 22,735\n",
      "Non-trainable params: 634\n",
      "_________________________________________________________________\n"
     ]
    },
    {
     "name": "stderr",
     "output_type": "stream",
     "text": [
      "C:\\Users\\alexi\\AppData\\Roaming\\Python\\Python39\\site-packages\\keras\\optimizer_v2\\optimizer_v2.py:355: UserWarning:\n",
      "\n",
      "The `lr` argument is deprecated, use `learning_rate` instead.\n",
      "\n"
     ]
    }
   ],
   "source": [
    "import tensorflow as tf\n",
    "keras = tf.keras\n",
    "reg = keras.regularizers.l2(0.01)\n",
    "\n",
    "model3 = keras.models.Sequential([\n",
    "    keras.layers.Input(shape=X_train.shape[1:]),\n",
    "    keras.layers.BatchNormalization(),\n",
    "    keras.layers.Dense(100, activation=\"elu\", kernel_initializer=\"he_normal\", kernel_regularizer =reg),\n",
    "    keras.layers.Dropout(0.1),\n",
    "    keras.layers.BatchNormalization(),\n",
    "    keras.layers.Dense(100, activation=\"elu\", kernel_initializer=\"he_normal\", kernel_regularizer =reg),\n",
    "    keras.layers.Dropout(0.1),\n",
    "    keras.layers.BatchNormalization(),\n",
    "    keras.layers.Dense(100, activation=\"elu\", kernel_initializer=\"he_normal\", kernel_regularizer =reg),\n",
    "    keras.layers.Dropout(0.1),\n",
    "    keras.layers.BatchNormalization(),\n",
    "    keras.layers.Dense(1)\n",
    "])\n",
    "optimiser = keras.optimizers.Adam(lr=0.001)\n",
    "model3.compile(loss=\"mae\", optimizer=optimiser, metrics=[\"mae\"])\n",
    "model3.summary()"
   ]
  },
  {
   "cell_type": "code",
   "execution_count": 845,
   "id": "55498b1d",
   "metadata": {},
   "outputs": [
    {
     "name": "stdout",
     "output_type": "stream",
     "text": [
      "Epoch 1/500\n",
      "108/108 [==============================] - 2s 5ms/step - loss: 15.1941 - mae: 11.1813 - val_loss: 5.5404 - val_mae: 2.9449\n",
      "Epoch 2/500\n",
      "108/108 [==============================] - 0s 3ms/step - loss: 8.1707 - mae: 6.0119 - val_loss: 3.7195 - val_mae: 1.8418\n",
      "Epoch 3/500\n",
      "108/108 [==============================] - 0s 3ms/step - loss: 4.0052 - mae: 2.2800 - val_loss: 2.9580 - val_mae: 1.3690\n",
      "Epoch 4/500\n",
      "108/108 [==============================] - 0s 3ms/step - loss: 3.5819 - mae: 2.1119 - val_loss: 2.9777 - val_mae: 1.6193\n",
      "Epoch 5/500\n",
      "108/108 [==============================] - 0s 3ms/step - loss: 3.2590 - mae: 1.9961 - val_loss: 2.4659 - val_mae: 1.2961\n",
      "Epoch 6/500\n",
      "108/108 [==============================] - 0s 3ms/step - loss: 3.0164 - mae: 1.9305 - val_loss: 2.2531 - val_mae: 1.2467\n",
      "Epoch 7/500\n",
      "108/108 [==============================] - 0s 4ms/step - loss: 2.9100 - mae: 1.9698 - val_loss: 2.3091 - val_mae: 1.4325\n",
      "Epoch 8/500\n",
      "108/108 [==============================] - 0s 4ms/step - loss: 2.7413 - mae: 1.9215 - val_loss: 2.1825 - val_mae: 1.4191\n",
      "Epoch 9/500\n",
      "108/108 [==============================] - 0s 3ms/step - loss: 2.6716 - mae: 1.9582 - val_loss: 2.0555 - val_mae: 1.3907\n",
      "Epoch 10/500\n",
      "108/108 [==============================] - 0s 3ms/step - loss: 2.5423 - mae: 1.9188 - val_loss: 2.0667 - val_mae: 1.4830\n",
      "Epoch 11/500\n",
      "108/108 [==============================] - 0s 3ms/step - loss: 2.4425 - mae: 1.8947 - val_loss: 1.8141 - val_mae: 1.3011\n",
      "Epoch 12/500\n",
      "108/108 [==============================] - 0s 3ms/step - loss: 2.3884 - mae: 1.9034 - val_loss: 1.7585 - val_mae: 1.2998\n",
      "Epoch 13/500\n",
      "108/108 [==============================] - 0s 3ms/step - loss: 2.2448 - mae: 1.8111 - val_loss: 1.7893 - val_mae: 1.3799\n",
      "Epoch 14/500\n",
      "108/108 [==============================] - 0s 2ms/step - loss: 2.2096 - mae: 1.8223 - val_loss: 1.6631 - val_mae: 1.2965\n",
      "Epoch 15/500\n",
      "108/108 [==============================] - 0s 3ms/step - loss: 2.0835 - mae: 1.7351 - val_loss: 1.8567 - val_mae: 1.5275\n",
      "Epoch 16/500\n",
      "108/108 [==============================] - 0s 2ms/step - loss: 2.1029 - mae: 1.7911 - val_loss: 1.5163 - val_mae: 1.2198\n",
      "Epoch 17/500\n",
      "108/108 [==============================] - 0s 3ms/step - loss: 2.0393 - mae: 1.7570 - val_loss: 1.5155 - val_mae: 1.2454\n",
      "Epoch 18/500\n",
      "108/108 [==============================] - 0s 2ms/step - loss: 2.0660 - mae: 1.8089 - val_loss: 1.4378 - val_mae: 1.1946\n",
      "Epoch 19/500\n",
      "108/108 [==============================] - 0s 2ms/step - loss: 2.0093 - mae: 1.7751 - val_loss: 1.4291 - val_mae: 1.2055\n",
      "Epoch 20/500\n",
      "108/108 [==============================] - 0s 3ms/step - loss: 2.0183 - mae: 1.8036 - val_loss: 1.5501 - val_mae: 1.3452\n",
      "Epoch 21/500\n",
      "108/108 [==============================] - 0s 2ms/step - loss: 1.9386 - mae: 1.7410 - val_loss: 1.3697 - val_mae: 1.1789\n",
      "Epoch 22/500\n",
      "108/108 [==============================] - 0s 2ms/step - loss: 1.9297 - mae: 1.7469 - val_loss: 1.5861 - val_mae: 1.4118\n",
      "Epoch 23/500\n",
      "108/108 [==============================] - 0s 2ms/step - loss: 1.9542 - mae: 1.7872 - val_loss: 1.6195 - val_mae: 1.4589\n",
      "Epoch 24/500\n",
      "108/108 [==============================] - 0s 2ms/step - loss: 1.8789 - mae: 1.7235 - val_loss: 1.3386 - val_mae: 1.1893\n",
      "Epoch 25/500\n",
      "108/108 [==============================] - 0s 2ms/step - loss: 1.9578 - mae: 1.8102 - val_loss: 1.5462 - val_mae: 1.4015\n",
      "Epoch 26/500\n",
      "108/108 [==============================] - 0s 2ms/step - loss: 1.9104 - mae: 1.7695 - val_loss: 1.3462 - val_mae: 1.2075\n",
      "Epoch 27/500\n",
      "108/108 [==============================] - 0s 2ms/step - loss: 1.9216 - mae: 1.7864 - val_loss: 1.6749 - val_mae: 1.5415\n",
      "Epoch 28/500\n",
      "108/108 [==============================] - 0s 2ms/step - loss: 1.9124 - mae: 1.7827 - val_loss: 1.4336 - val_mae: 1.3097\n",
      "Epoch 29/500\n",
      "108/108 [==============================] - 0s 3ms/step - loss: 1.8625 - mae: 1.7408 - val_loss: 1.3631 - val_mae: 1.2449\n",
      "Epoch 30/500\n",
      "108/108 [==============================] - 0s 3ms/step - loss: 1.8898 - mae: 1.7737 - val_loss: 1.3598 - val_mae: 1.2473\n",
      "Epoch 31/500\n",
      "108/108 [==============================] - 0s 2ms/step - loss: 1.7982 - mae: 1.6876 - val_loss: 1.8647 - val_mae: 1.7551\n",
      "Epoch 32/500\n",
      "108/108 [==============================] - 0s 2ms/step - loss: 1.8227 - mae: 1.7128 - val_loss: 1.4313 - val_mae: 1.3221\n",
      "Epoch 33/500\n",
      "108/108 [==============================] - 0s 2ms/step - loss: 1.8745 - mae: 1.7674 - val_loss: 1.3788 - val_mae: 1.2724\n",
      "Epoch 34/500\n",
      "108/108 [==============================] - 0s 2ms/step - loss: 1.7988 - mae: 1.6929 - val_loss: 1.2546 - val_mae: 1.1499\n",
      "Epoch 35/500\n",
      "108/108 [==============================] - 0s 2ms/step - loss: 1.7894 - mae: 1.6863 - val_loss: 1.3015 - val_mae: 1.1984\n",
      "Epoch 36/500\n",
      "108/108 [==============================] - 0s 2ms/step - loss: 1.7846 - mae: 1.6818 - val_loss: 1.3154 - val_mae: 1.2148\n",
      "Epoch 37/500\n",
      "108/108 [==============================] - 0s 2ms/step - loss: 1.8733 - mae: 1.7738 - val_loss: 1.4462 - val_mae: 1.3457\n",
      "Epoch 38/500\n",
      "108/108 [==============================] - 0s 2ms/step - loss: 1.7852 - mae: 1.6883 - val_loss: 1.3135 - val_mae: 1.2187\n",
      "Epoch 39/500\n",
      "108/108 [==============================] - 0s 2ms/step - loss: 1.7860 - mae: 1.6934 - val_loss: 1.4454 - val_mae: 1.3537\n",
      "Epoch 40/500\n",
      "108/108 [==============================] - 0s 2ms/step - loss: 1.7839 - mae: 1.6911 - val_loss: 1.3051 - val_mae: 1.2113\n",
      "Epoch 41/500\n",
      "108/108 [==============================] - 0s 2ms/step - loss: 1.8503 - mae: 1.7565 - val_loss: 1.3110 - val_mae: 1.2184\n",
      "Epoch 42/500\n",
      "108/108 [==============================] - 0s 2ms/step - loss: 1.8741 - mae: 1.7836 - val_loss: 1.6042 - val_mae: 1.5153\n",
      "Epoch 43/500\n",
      "108/108 [==============================] - 0s 2ms/step - loss: 1.7698 - mae: 1.6802 - val_loss: 1.3937 - val_mae: 1.3052\n",
      "Epoch 44/500\n",
      "108/108 [==============================] - 0s 2ms/step - loss: 1.8378 - mae: 1.7511 - val_loss: 1.5484 - val_mae: 1.4619\n",
      "Epoch 45/500\n",
      "108/108 [==============================] - 0s 2ms/step - loss: 1.8164 - mae: 1.7286 - val_loss: 1.6770 - val_mae: 1.5890\n",
      "Epoch 46/500\n",
      "108/108 [==============================] - 0s 2ms/step - loss: 1.8134 - mae: 1.7246 - val_loss: 1.4918 - val_mae: 1.4027\n",
      "Epoch 47/500\n",
      "108/108 [==============================] - 0s 2ms/step - loss: 1.7322 - mae: 1.6446 - val_loss: 1.2787 - val_mae: 1.1901\n",
      "Epoch 48/500\n",
      "108/108 [==============================] - 0s 3ms/step - loss: 1.8894 - mae: 1.8021 - val_loss: 1.2508 - val_mae: 1.1633\n",
      "Epoch 49/500\n",
      "108/108 [==============================] - 0s 3ms/step - loss: 1.7514 - mae: 1.6653 - val_loss: 1.5044 - val_mae: 1.4177\n",
      "Epoch 50/500\n",
      "108/108 [==============================] - 0s 3ms/step - loss: 1.8588 - mae: 1.7729 - val_loss: 1.3093 - val_mae: 1.2252\n",
      "Epoch 51/500\n",
      "108/108 [==============================] - 0s 2ms/step - loss: 1.7370 - mae: 1.6532 - val_loss: 1.4328 - val_mae: 1.3499\n",
      "Epoch 52/500\n",
      "108/108 [==============================] - 0s 3ms/step - loss: 1.9158 - mae: 1.8332 - val_loss: 1.1682 - val_mae: 1.0874\n",
      "Epoch 53/500\n",
      "108/108 [==============================] - 0s 3ms/step - loss: 1.7803 - mae: 1.6999 - val_loss: 1.2945 - val_mae: 1.2125\n",
      "Epoch 54/500\n",
      "108/108 [==============================] - 0s 2ms/step - loss: 1.8187 - mae: 1.7380 - val_loss: 1.4161 - val_mae: 1.3357\n",
      "Epoch 55/500\n",
      "108/108 [==============================] - 0s 2ms/step - loss: 1.7846 - mae: 1.7045 - val_loss: 1.1992 - val_mae: 1.1193\n",
      "Epoch 56/500\n",
      "108/108 [==============================] - 0s 2ms/step - loss: 1.8179 - mae: 1.7390 - val_loss: 1.3637 - val_mae: 1.2844\n",
      "Epoch 57/500\n",
      "108/108 [==============================] - 0s 2ms/step - loss: 1.7967 - mae: 1.7153 - val_loss: 1.4218 - val_mae: 1.3390\n",
      "Epoch 58/500\n",
      "108/108 [==============================] - 0s 2ms/step - loss: 1.7983 - mae: 1.7163 - val_loss: 1.3206 - val_mae: 1.2411\n",
      "Epoch 59/500\n",
      "108/108 [==============================] - 0s 2ms/step - loss: 1.7394 - mae: 1.6597 - val_loss: 1.2313 - val_mae: 1.1515\n",
      "Epoch 60/500\n",
      "108/108 [==============================] - 0s 2ms/step - loss: 1.7414 - mae: 1.6616 - val_loss: 1.4129 - val_mae: 1.3324\n",
      "Epoch 61/500\n",
      "108/108 [==============================] - 0s 2ms/step - loss: 1.6811 - mae: 1.6010 - val_loss: 1.4043 - val_mae: 1.3244\n",
      "Epoch 62/500\n",
      "108/108 [==============================] - 0s 2ms/step - loss: 1.7315 - mae: 1.6486 - val_loss: 1.2726 - val_mae: 1.1905\n",
      "Epoch 63/500\n",
      "108/108 [==============================] - 0s 3ms/step - loss: 1.7190 - mae: 1.6393 - val_loss: 1.4282 - val_mae: 1.3493\n",
      "Epoch 64/500\n",
      "108/108 [==============================] - 0s 3ms/step - loss: 1.7572 - mae: 1.6791 - val_loss: 1.2624 - val_mae: 1.1848\n",
      "Epoch 65/500\n",
      "108/108 [==============================] - 0s 2ms/step - loss: 1.7836 - mae: 1.7052 - val_loss: 1.3173 - val_mae: 1.2381\n",
      "Epoch 66/500\n",
      "108/108 [==============================] - 0s 2ms/step - loss: 1.7370 - mae: 1.6570 - val_loss: 1.2524 - val_mae: 1.1728\n",
      "Epoch 67/500\n",
      "108/108 [==============================] - 0s 2ms/step - loss: 1.7041 - mae: 1.6244 - val_loss: 1.6104 - val_mae: 1.5294\n",
      "Epoch 68/500\n",
      "108/108 [==============================] - 0s 3ms/step - loss: 1.8294 - mae: 1.7512 - val_loss: 1.5219 - val_mae: 1.4443\n",
      "Epoch 69/500\n",
      "108/108 [==============================] - 0s 3ms/step - loss: 1.7552 - mae: 1.6759 - val_loss: 1.4629 - val_mae: 1.3836\n",
      "Epoch 70/500\n",
      "108/108 [==============================] - 0s 2ms/step - loss: 1.8407 - mae: 1.7639 - val_loss: 1.3046 - val_mae: 1.2296\n",
      "Epoch 71/500\n",
      "108/108 [==============================] - 0s 2ms/step - loss: 1.8321 - mae: 1.7585 - val_loss: 1.1946 - val_mae: 1.1209\n",
      "Epoch 72/500\n",
      "108/108 [==============================] - 0s 2ms/step - loss: 1.7709 - mae: 1.6991 - val_loss: 1.3196 - val_mae: 1.2495\n",
      "Epoch 73/500\n",
      "108/108 [==============================] - 0s 2ms/step - loss: 1.8618 - mae: 1.7889 - val_loss: 1.3898 - val_mae: 1.3158\n",
      "Epoch 74/500\n",
      "108/108 [==============================] - 0s 2ms/step - loss: 1.8062 - mae: 1.7324 - val_loss: 1.2700 - val_mae: 1.1957\n",
      "Epoch 75/500\n",
      "108/108 [==============================] - 0s 2ms/step - loss: 1.6534 - mae: 1.5799 - val_loss: 1.2239 - val_mae: 1.1516\n",
      "Epoch 76/500\n",
      "108/108 [==============================] - 0s 3ms/step - loss: 1.8542 - mae: 1.7831 - val_loss: 1.2975 - val_mae: 1.2253\n",
      "Epoch 77/500\n",
      "108/108 [==============================] - 0s 2ms/step - loss: 1.6944 - mae: 1.6204 - val_loss: 1.3260 - val_mae: 1.2520\n",
      "Epoch 78/500\n",
      "108/108 [==============================] - 0s 2ms/step - loss: 1.7784 - mae: 1.7021 - val_loss: 1.3706 - val_mae: 1.2943\n",
      "Epoch 79/500\n",
      "108/108 [==============================] - 0s 3ms/step - loss: 1.7486 - mae: 1.6754 - val_loss: 1.4845 - val_mae: 1.4132\n",
      "Epoch 80/500\n",
      "108/108 [==============================] - 0s 3ms/step - loss: 1.7002 - mae: 1.6280 - val_loss: 1.2993 - val_mae: 1.2265\n",
      "Epoch 81/500\n",
      "108/108 [==============================] - 0s 2ms/step - loss: 1.7622 - mae: 1.6887 - val_loss: 1.3088 - val_mae: 1.2350\n",
      "Epoch 82/500\n",
      "108/108 [==============================] - 0s 2ms/step - loss: 1.7525 - mae: 1.6803 - val_loss: 1.2373 - val_mae: 1.1629\n",
      "Epoch 83/500\n",
      "108/108 [==============================] - 0s 2ms/step - loss: 1.7187 - mae: 1.6437 - val_loss: 1.2517 - val_mae: 1.1795\n",
      "Epoch 84/500\n",
      "108/108 [==============================] - 0s 2ms/step - loss: 1.6716 - mae: 1.5984 - val_loss: 1.3401 - val_mae: 1.2657\n",
      "Epoch 85/500\n",
      "108/108 [==============================] - 0s 2ms/step - loss: 1.7234 - mae: 1.6501 - val_loss: 1.6331 - val_mae: 1.5582\n",
      "Epoch 86/500\n",
      "108/108 [==============================] - 0s 3ms/step - loss: 1.7244 - mae: 1.6500 - val_loss: 1.2817 - val_mae: 1.2060\n",
      "Epoch 87/500\n",
      "108/108 [==============================] - 0s 2ms/step - loss: 1.6905 - mae: 1.6158 - val_loss: 1.2183 - val_mae: 1.1452\n",
      "Epoch 88/500\n",
      "108/108 [==============================] - 0s 2ms/step - loss: 1.6331 - mae: 1.5623 - val_loss: 1.3293 - val_mae: 1.2582\n",
      "Epoch 89/500\n",
      "108/108 [==============================] - 0s 2ms/step - loss: 1.7979 - mae: 1.7251 - val_loss: 1.3941 - val_mae: 1.3216\n",
      "Epoch 90/500\n",
      "108/108 [==============================] - 0s 2ms/step - loss: 1.6831 - mae: 1.6103 - val_loss: 1.3354 - val_mae: 1.2632\n",
      "Epoch 91/500\n",
      "108/108 [==============================] - 0s 2ms/step - loss: 1.7747 - mae: 1.7038 - val_loss: 1.2240 - val_mae: 1.1543\n",
      "Epoch 92/500\n",
      "108/108 [==============================] - 0s 2ms/step - loss: 1.7113 - mae: 1.6405 - val_loss: 1.2136 - val_mae: 1.1421\n",
      "Epoch 93/500\n",
      "108/108 [==============================] - 0s 2ms/step - loss: 1.7526 - mae: 1.6820 - val_loss: 1.2131 - val_mae: 1.1437\n",
      "Epoch 94/500\n",
      "108/108 [==============================] - 0s 2ms/step - loss: 1.7610 - mae: 1.6917 - val_loss: 1.2972 - val_mae: 1.2278\n",
      "Epoch 95/500\n",
      "108/108 [==============================] - 0s 2ms/step - loss: 1.7490 - mae: 1.6802 - val_loss: 1.2623 - val_mae: 1.1940\n",
      "Epoch 96/500\n",
      "108/108 [==============================] - 0s 2ms/step - loss: 1.6669 - mae: 1.5980 - val_loss: 1.3350 - val_mae: 1.2656\n",
      "Epoch 97/500\n",
      "108/108 [==============================] - 0s 2ms/step - loss: 1.6640 - mae: 1.5928 - val_loss: 1.3844 - val_mae: 1.3112\n",
      "Epoch 98/500\n",
      "108/108 [==============================] - 0s 2ms/step - loss: 1.6635 - mae: 1.5900 - val_loss: 1.2898 - val_mae: 1.2178\n",
      "Epoch 99/500\n",
      "108/108 [==============================] - 0s 2ms/step - loss: 1.7338 - mae: 1.6631 - val_loss: 1.2646 - val_mae: 1.1943\n",
      "Epoch 100/500\n",
      "108/108 [==============================] - 0s 2ms/step - loss: 1.7584 - mae: 1.6876 - val_loss: 1.3672 - val_mae: 1.2959\n",
      "Epoch 101/500\n",
      "108/108 [==============================] - 0s 2ms/step - loss: 1.7162 - mae: 1.6459 - val_loss: 1.2729 - val_mae: 1.2031\n",
      "Epoch 102/500\n",
      "108/108 [==============================] - 0s 3ms/step - loss: 1.7113 - mae: 1.6414 - val_loss: 1.2048 - val_mae: 1.1364\n"
     ]
    }
   ],
   "source": [
    "checkpoint = keras.callbacks.ModelCheckpoint(\"save/model.h5\", save_best_only=True)\n",
    "early_stopping = keras.callbacks.EarlyStopping(patience=50, restore_best_weights=True)\n",
    "\n",
    "model3_history = model3.fit(X_train, y_train, epochs=500, batch_size=16,\n",
    "                                validation_data=(X_val, y_val), callbacks=[checkpoint, early_stopping])"
   ]
  },
  {
   "cell_type": "code",
   "execution_count": 843,
   "id": "32a861d1",
   "metadata": {},
   "outputs": [
    {
     "name": "stdout",
     "output_type": "stream",
     "text": [
      "results:\n",
      "mae: 1.3252\n",
      "mse: 4.7649\n"
     ]
    }
   ],
   "source": [
    "from sklearn.metrics import mean_squared_error\n",
    "print('results:')\n",
    "print('mae: {:2.5}'.format(mean_absolute_error(model3.predict(X_test), y_test)))\n",
    "print('mse: {:2.5}'.format(mean_squared_error(model3.predict(X_test), y_test)))"
   ]
  }
 ],
 "metadata": {
  "kernelspec": {
   "display_name": "Python 3 (ipykernel)",
   "language": "python",
   "name": "python3"
  },
  "language_info": {
   "codemirror_mode": {
    "name": "ipython",
    "version": 3
   },
   "file_extension": ".py",
   "mimetype": "text/x-python",
   "name": "python",
   "nbconvert_exporter": "python",
   "pygments_lexer": "ipython3",
   "version": "3.9.7"
  }
 },
 "nbformat": 4,
 "nbformat_minor": 5
}
