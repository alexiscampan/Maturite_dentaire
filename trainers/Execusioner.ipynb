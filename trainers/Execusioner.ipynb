{
 "cells": [
  {
   "cell_type": "markdown",
   "id": "70cad1cc-c662-44f6-9d04-c98603f8deab",
   "metadata": {},
   "source": [
    "## IMPORTS "
   ]
  },
  {
   "cell_type": "code",
   "execution_count": 1,
   "id": "91eb56a4-a7f9-4e94-b010-04c1dcd38eef",
   "metadata": {},
   "outputs": [],
   "source": [
    "import os\n",
    "from datetime import datetime\n",
    "\n",
    "# Matrices\n",
    "import numpy as np\n",
    "\n",
    "# DF\n",
    "import pandas as pd\n",
    "import papermill as pm\n",
    "\n",
    "base_path = \"/home/jovyan/work/\"  # other /home/jovyan/work/TP3_TP4\n",
    "os.chdir(base_path)"
   ]
  },
  {
   "cell_type": "code",
   "execution_count": 2,
   "id": "5a89100c-3c37-4647-b03c-41916a027206",
   "metadata": {},
   "outputs": [
    {
     "name": "stdout",
     "output_type": "stream",
     "text": [
      "Starting time and time used for files 10-02-2022_07:21:52\n"
     ]
    }
   ],
   "source": [
    "# START TIME ------\n",
    "s = datetime.now()\n",
    "# time as str\n",
    "init_time = s.strftime(\"%d-%m-%Y_%H:%M:%S\")\n",
    "print(f\"Starting time and time used for files {init_time}\")\n",
    "pd.set_option(\"display.float_format\", lambda x: \"%.5f\" % x)"
   ]
  },
  {
   "cell_type": "markdown",
   "id": "c1db1b92-54ba-4d2f-9bbf-bddad6bd423b",
   "metadata": {},
   "source": [
    "## SET UP EXECUTIONER"
   ]
  },
  {
   "cell_type": "markdown",
   "id": "67ad5231-0e99-4537-ab5d-7907971bcea9",
   "metadata": {
    "tags": []
   },
   "source": [
    "**Defaults:** \n",
    "- categorical =True :\n",
    "    * implies: Categorical columns are dummified by sklearn encoder\n",
    "- toFitXGB= True\n",
    "- toFitRF= True\n",
    "- toFitSVM= True\n",
    "- toFitMLP= True\n",
    "- toScale= True \n",
    "    * Numerical columns are scaled by mean and std\n"
   ]
  },
  {
   "cell_type": "markdown",
   "id": "1031510d-c11f-49e1-9199-fbe85d119bc6",
   "metadata": {},
   "source": [
    "### Execute all models on teeth data"
   ]
  },
  {
   "cell_type": "code",
   "execution_count": 3,
   "id": "d4a0a06a-9f39-4126-b36f-e0b079767a53",
   "metadata": {},
   "outputs": [],
   "source": [
    "trainer_path= \"trainers/\"\n",
    "out_path= \"Jupyter Outputs/\""
   ]
  },
  {
   "cell_type": "code",
   "execution_count": 4,
   "id": "c4b4cb22-e1fc-42ff-88bc-d116b6658fc8",
   "metadata": {},
   "outputs": [
    {
     "data": {
      "application/vnd.jupyter.widget-view+json": {
       "model_id": "c721d0d9f3604596823e3f384a20363f",
       "version_major": 2,
       "version_minor": 0
      },
      "text/plain": [
       "Executing:   0%|          | 0/64 [00:00<?, ?cell/s]"
      ]
     },
     "metadata": {},
     "output_type": "display_data"
    },
    {
     "name": "stderr",
     "output_type": "stream",
     "text": [
      "/opt/conda/lib/python3.9/site-packages/xgboost/compat.py:36: FutureWarning: pandas.Int64Index is deprecated and will be removed from pandas in a future version. Use pandas.Index with the appropriate dtype instead.\n",
      "  from pandas import MultiIndex, Int64Index\n",
      "/opt/conda/lib/python3.9/site-packages/xgboost/compat.py:36: FutureWarning: pandas.Int64Index is deprecated and will be removed from pandas in a future version. Use pandas.Index with the appropriate dtype instead.\n",
      "  from pandas import MultiIndex, Int64Index\n",
      "/opt/conda/lib/python3.9/site-packages/xgboost/compat.py:36: FutureWarning: pandas.Int64Index is deprecated and will be removed from pandas in a future version. Use pandas.Index with the appropriate dtype instead.\n",
      "  from pandas import MultiIndex, Int64Index\n",
      "/opt/conda/lib/python3.9/site-packages/xgboost/compat.py:36: FutureWarning: pandas.Int64Index is deprecated and will be removed from pandas in a future version. Use pandas.Index with the appropriate dtype instead.\n",
      "  from pandas import MultiIndex, Int64Index\n",
      "/opt/conda/lib/python3.9/site-packages/xgboost/compat.py:36: FutureWarning: pandas.Int64Index is deprecated and will be removed from pandas in a future version. Use pandas.Index with the appropriate dtype instead.\n",
      "  from pandas import MultiIndex, Int64Index\n",
      "/opt/conda/lib/python3.9/site-packages/xgboost/compat.py:36: FutureWarning: pandas.Int64Index is deprecated and will be removed from pandas in a future version. Use pandas.Index with the appropriate dtype instead.\n",
      "  from pandas import MultiIndex, Int64Index\n"
     ]
    },
    {
     "ename": "PapermillExecutionError",
     "evalue": "\n---------------------------------------------------------------------------\nException encountered at \"In [35]\":\n---------------------------------------------------------------------------\nValueError                                Traceback (most recent call last)\nFile <timed exec>:22, in <module>\n\nInput In [7], in get_results(model, data)\n      1 def get_results(model, data):\n      2     # PRINT BEST RESULTS ------\n----> 3     scores = score_model(model, data)\n      4     scores_df = scores_to_df(scores)\n      6     best_params = model.get_params()\n\nInput In [6], in score_model(model, data)\n     76 for i, split in enumerate(splits):\n     77     metrics = {}\n---> 78     metrics[\"rmsle\"] = rmsle(model, data[i][0], data[i][1])\n     79     metrics[\"rmse\"] = mean_squared_error(model.predict(data[i][0]), data[i][1])\n     80     metrics[\"mae\"] = mean_absolute_error(model.predict(data[i][0]), data[i][1])\n\nFile /opt/conda/lib/python3.9/site-packages/sklearn/metrics/_scorer.py:216, in _BaseScorer.__call__(self, estimator, X, y_true, sample_weight)\n    193 def __call__(self, estimator, X, y_true, sample_weight=None):\n    194     \"\"\"Evaluate predicted target values for X relative to y_true.\n    195 \n    196     Parameters\n   (...)\n    214         Score function applied to prediction of estimator on X.\n    215     \"\"\"\n--> 216     return self._score(\n    217         partial(_cached_call, None),\n    218         estimator,\n    219         X,\n    220         y_true,\n    221         sample_weight=sample_weight,\n    222     )\n\nFile /opt/conda/lib/python3.9/site-packages/sklearn/metrics/_scorer.py:264, in _PredictScorer._score(self, method_caller, estimator, X, y_true, sample_weight)\n    260     return self._sign * self._score_func(\n    261         y_true, y_pred, sample_weight=sample_weight, **self._kwargs\n    262     )\n    263 else:\n--> 264     return self._sign * self._score_func(y_true, y_pred, **self._kwargs)\n\nFile ~/work/utils/utils.py:23, in rmsle(y_true, y_pred)\n     22 def rmsle(y_true, y_pred):\n---> 23     loss=mean_squared_log_error(y_true, y_pred,squared=True) # MSLE\n     24     #loss= np.sqrt(loss) # RMSLE \n     25     #loss= np.negative(loss) # -RMSLE greater_is_better=False will do it\n     26     return loss\n\nFile /opt/conda/lib/python3.9/site-packages/sklearn/metrics/_regression.py:521, in mean_squared_log_error(y_true, y_pred, sample_weight, multioutput, squared)\n    518 check_consistent_length(y_true, y_pred, sample_weight)\n    520 if (y_true < 0).any() or (y_pred < 0).any():\n--> 521     raise ValueError(\n    522         \"Mean Squared Logarithmic Error cannot be used when \"\n    523         \"targets contain negative values.\"\n    524     )\n    526 return mean_squared_error(\n    527     np.log1p(y_true),\n    528     np.log1p(y_pred),\n   (...)\n    531     squared=squared,\n    532 )\n\nValueError: Mean Squared Logarithmic Error cannot be used when targets contain negative values.\n",
     "output_type": "error",
     "traceback": [
      "\u001b[0;31m---------------------------------------------------------------------------\u001b[0m",
      "\u001b[0;31mPapermillExecutionError\u001b[0m                   Traceback (most recent call last)",
      "Input \u001b[0;32mIn [4]\u001b[0m, in \u001b[0;36m<module>\u001b[0;34m\u001b[0m\n\u001b[1;32m      1\u001b[0m \u001b[38;5;66;03m# HOUSE DATA FITTING ------\u001b[39;00m\n\u001b[0;32m----> 2\u001b[0m \u001b[43mpm\u001b[49m\u001b[38;5;241;43m.\u001b[39;49m\u001b[43mexecute_notebook\u001b[49m\u001b[43m(\u001b[49m\n\u001b[1;32m      3\u001b[0m \u001b[43m    \u001b[49m\u001b[43mos\u001b[49m\u001b[38;5;241;43m.\u001b[39;49m\u001b[43mpath\u001b[49m\u001b[38;5;241;43m.\u001b[39;49m\u001b[43mjoin\u001b[49m\u001b[43m(\u001b[49m\u001b[43mtrainer_path\u001b[49m\u001b[43m,\u001b[49m\u001b[43m \u001b[49m\u001b[38;5;124;43m\"\u001b[39;49m\u001b[38;5;124;43mmodel_trainer.ipynb\u001b[39;49m\u001b[38;5;124;43m\"\u001b[39;49m\u001b[43m)\u001b[49m\u001b[43m,\u001b[49m\n\u001b[1;32m      4\u001b[0m \u001b[43m    \u001b[49m\u001b[43mos\u001b[49m\u001b[38;5;241;43m.\u001b[39;49m\u001b[43mpath\u001b[49m\u001b[38;5;241;43m.\u001b[39;49m\u001b[43mjoin\u001b[49m\u001b[43m(\u001b[49m\u001b[43mout_path\u001b[49m\u001b[43m,\u001b[49m\u001b[43m \u001b[49m\u001b[38;5;124;43mf\u001b[39;49m\u001b[38;5;124;43m\"\u001b[39;49m\u001b[38;5;124;43mmodel_output_\u001b[39;49m\u001b[38;5;132;43;01m{\u001b[39;49;00m\u001b[43minit_time\u001b[49m\u001b[38;5;132;43;01m}\u001b[39;49;00m\u001b[38;5;124;43m.ipynb\u001b[39;49m\u001b[38;5;124;43m\"\u001b[39;49m\u001b[43m)\u001b[49m\u001b[43m,\u001b[49m\n\u001b[1;32m      5\u001b[0m \u001b[43m    \u001b[49m\u001b[43mparameters\u001b[49m\u001b[38;5;241;43m=\u001b[39;49m\u001b[38;5;28;43mdict\u001b[39;49m\u001b[43m(\u001b[49m\n\u001b[1;32m      6\u001b[0m \u001b[43m        \u001b[49m\u001b[43mtraining_data_path\u001b[49m\u001b[38;5;241;43m=\u001b[39;49m\u001b[38;5;124;43m\"\u001b[39;49m\u001b[38;5;124;43moutlier\u001b[39;49m\u001b[38;5;124;43m\"\u001b[39;49m\u001b[43m,\u001b[49m\n\u001b[1;32m      7\u001b[0m \u001b[43m        \u001b[49m\u001b[43mdataset\u001b[49m\u001b[38;5;241;43m=\u001b[39;49m\u001b[38;5;124;43m\"\u001b[39;49m\u001b[38;5;124;43moutlier\u001b[39;49m\u001b[38;5;124;43m\"\u001b[39;49m\u001b[43m,\u001b[49m\n\u001b[1;32m      8\u001b[0m \u001b[43m        \u001b[49m\u001b[43mdependent\u001b[49m\u001b[38;5;241;43m=\u001b[39;49m\u001b[38;5;124;43m\"\u001b[39;49m\u001b[38;5;124;43mPAT_AGE\u001b[39;49m\u001b[38;5;124;43m\"\u001b[39;49m\u001b[43m,\u001b[49m\n\u001b[1;32m      9\u001b[0m \u001b[43m        \u001b[49m\u001b[43mcategorical\u001b[49m\u001b[38;5;241;43m=\u001b[39;49m\u001b[38;5;28;43;01mFalse\u001b[39;49;00m\u001b[43m,\u001b[49m\n\u001b[1;32m     10\u001b[0m \u001b[43m    \u001b[49m\u001b[43m)\u001b[49m\n\u001b[1;32m     11\u001b[0m \u001b[43m)\u001b[49m\n",
      "File \u001b[0;32m/opt/conda/lib/python3.9/site-packages/papermill/execute.py:122\u001b[0m, in \u001b[0;36mexecute_notebook\u001b[0;34m(input_path, output_path, parameters, engine_name, request_save_on_cell_execute, prepare_only, kernel_name, language, progress_bar, log_output, stdout_file, stderr_file, start_timeout, report_mode, cwd, **engine_kwargs)\u001b[0m\n\u001b[1;32m    107\u001b[0m         nb \u001b[38;5;241m=\u001b[39m papermill_engines\u001b[38;5;241m.\u001b[39mexecute_notebook_with_engine(\n\u001b[1;32m    108\u001b[0m             engine_name,\n\u001b[1;32m    109\u001b[0m             nb,\n\u001b[0;32m   (...)\u001b[0m\n\u001b[1;32m    118\u001b[0m             \u001b[38;5;241m*\u001b[39m\u001b[38;5;241m*\u001b[39mengine_kwargs\n\u001b[1;32m    119\u001b[0m         )\n\u001b[1;32m    121\u001b[0m     \u001b[38;5;66;03m# Check for errors first (it saves on error before raising)\u001b[39;00m\n\u001b[0;32m--> 122\u001b[0m     \u001b[43mraise_for_execution_errors\u001b[49m\u001b[43m(\u001b[49m\u001b[43mnb\u001b[49m\u001b[43m,\u001b[49m\u001b[43m \u001b[49m\u001b[43moutput_path\u001b[49m\u001b[43m)\u001b[49m\n\u001b[1;32m    124\u001b[0m \u001b[38;5;66;03m# Write final output in case the engine didn't write it on cell completion.\u001b[39;00m\n\u001b[1;32m    125\u001b[0m write_ipynb(nb, output_path)\n",
      "File \u001b[0;32m/opt/conda/lib/python3.9/site-packages/papermill/execute.py:234\u001b[0m, in \u001b[0;36mraise_for_execution_errors\u001b[0;34m(nb, output_path)\u001b[0m\n\u001b[1;32m    231\u001b[0m nb\u001b[38;5;241m.\u001b[39mcells\u001b[38;5;241m.\u001b[39minsert(\u001b[38;5;241m0\u001b[39m, error_msg_cell)\n\u001b[1;32m    233\u001b[0m write_ipynb(nb, output_path)\n\u001b[0;32m--> 234\u001b[0m \u001b[38;5;28;01mraise\u001b[39;00m error\n",
      "\u001b[0;31mPapermillExecutionError\u001b[0m: \n---------------------------------------------------------------------------\nException encountered at \"In [35]\":\n---------------------------------------------------------------------------\nValueError                                Traceback (most recent call last)\nFile <timed exec>:22, in <module>\n\nInput In [7], in get_results(model, data)\n      1 def get_results(model, data):\n      2     # PRINT BEST RESULTS ------\n----> 3     scores = score_model(model, data)\n      4     scores_df = scores_to_df(scores)\n      6     best_params = model.get_params()\n\nInput In [6], in score_model(model, data)\n     76 for i, split in enumerate(splits):\n     77     metrics = {}\n---> 78     metrics[\"rmsle\"] = rmsle(model, data[i][0], data[i][1])\n     79     metrics[\"rmse\"] = mean_squared_error(model.predict(data[i][0]), data[i][1])\n     80     metrics[\"mae\"] = mean_absolute_error(model.predict(data[i][0]), data[i][1])\n\nFile /opt/conda/lib/python3.9/site-packages/sklearn/metrics/_scorer.py:216, in _BaseScorer.__call__(self, estimator, X, y_true, sample_weight)\n    193 def __call__(self, estimator, X, y_true, sample_weight=None):\n    194     \"\"\"Evaluate predicted target values for X relative to y_true.\n    195 \n    196     Parameters\n   (...)\n    214         Score function applied to prediction of estimator on X.\n    215     \"\"\"\n--> 216     return self._score(\n    217         partial(_cached_call, None),\n    218         estimator,\n    219         X,\n    220         y_true,\n    221         sample_weight=sample_weight,\n    222     )\n\nFile /opt/conda/lib/python3.9/site-packages/sklearn/metrics/_scorer.py:264, in _PredictScorer._score(self, method_caller, estimator, X, y_true, sample_weight)\n    260     return self._sign * self._score_func(\n    261         y_true, y_pred, sample_weight=sample_weight, **self._kwargs\n    262     )\n    263 else:\n--> 264     return self._sign * self._score_func(y_true, y_pred, **self._kwargs)\n\nFile ~/work/utils/utils.py:23, in rmsle(y_true, y_pred)\n     22 def rmsle(y_true, y_pred):\n---> 23     loss=mean_squared_log_error(y_true, y_pred,squared=True) # MSLE\n     24     #loss= np.sqrt(loss) # RMSLE \n     25     #loss= np.negative(loss) # -RMSLE greater_is_better=False will do it\n     26     return loss\n\nFile /opt/conda/lib/python3.9/site-packages/sklearn/metrics/_regression.py:521, in mean_squared_log_error(y_true, y_pred, sample_weight, multioutput, squared)\n    518 check_consistent_length(y_true, y_pred, sample_weight)\n    520 if (y_true < 0).any() or (y_pred < 0).any():\n--> 521     raise ValueError(\n    522         \"Mean Squared Logarithmic Error cannot be used when \"\n    523         \"targets contain negative values.\"\n    524     )\n    526 return mean_squared_error(\n    527     np.log1p(y_true),\n    528     np.log1p(y_pred),\n   (...)\n    531     squared=squared,\n    532 )\n\nValueError: Mean Squared Logarithmic Error cannot be used when targets contain negative values.\n"
     ]
    }
   ],
   "source": [
    "# HOUSE DATA FITTING ------\n",
    "pm.execute_notebook(\n",
    "    os.path.join(trainer_path, \"model_trainer.ipynb\"),\n",
    "    os.path.join(out_path, f\"model_output_{init_time}.ipynb\"),\n",
    "    parameters=dict(\n",
    "        training_data_path=\"outlier\",\n",
    "        dataset=\"outlier\",\n",
    "        dependent=\"PAT_AGE\",\n",
    "        categorical=False,\n",
    "    )\n",
    ");"
   ]
  },
  {
   "cell_type": "code",
   "execution_count": null,
   "id": "3f6fad2e-095c-4384-b1c2-3bc4d0944b2b",
   "metadata": {},
   "outputs": [],
   "source": []
  }
 ],
 "metadata": {
  "kernelspec": {
   "display_name": "Python 3 (ipykernel)",
   "language": "python",
   "name": "python3"
  },
  "language_info": {
   "codemirror_mode": {
    "name": "ipython",
    "version": 3
   },
   "file_extension": ".py",
   "mimetype": "text/x-python",
   "name": "python",
   "nbconvert_exporter": "python",
   "pygments_lexer": "ipython3",
   "version": "3.9.7"
  }
 },
 "nbformat": 4,
 "nbformat_minor": 5
}
