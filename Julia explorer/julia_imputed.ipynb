{
 "cells": [
  {
   "cell_type": "code",
   "execution_count": null,
   "metadata": {},
   "outputs": [],
   "source": [
    "using CSV\n",
    "using DataFrames\n",
    "using MLJ\n",
    "using Plots\n",
    "\n",
    "#Pkg.add(\"MLJDecisionTreeInterface\")"
   ]
  },
  {
   "cell_type": "code",
   "execution_count": null,
   "metadata": {},
   "outputs": [],
   "source": [
    "# MOTIVE : TEST DIFFERENT MLJ MODELS ON PREPROCESSED DATA "
   ]
  },
  {
   "cell_type": "code",
   "execution_count": null,
   "metadata": {},
   "outputs": [],
   "source": [
    "# Basic configuration --- \n",
    "base_path= \"/home/camilodlt/Downloads/CM_ML/TP5/Maturite_dentaire\""
   ]
  },
  {
   "cell_type": "code",
   "execution_count": null,
   "metadata": {},
   "outputs": [],
   "source": [
    "cwd = pwd()\n",
    "print(\"Current wd: \",cwd)\n",
    "if cwd != base_path\n",
    "    print(\"Changing cwd to:$base_path\")\n",
    "    cd(base_path);\n",
    "end"
   ]
  },
  {
   "cell_type": "code",
   "execution_count": null,
   "metadata": {},
   "outputs": [],
   "source": [
    "# Data configuaration --- \n",
    "imputed_path= \"data/ordinalEncoder_imputed_knn/knn_imputed.csv\";"
   ]
  },
  {
   "cell_type": "code",
   "execution_count": null,
   "metadata": {},
   "outputs": [],
   "source": [
    "imputed = CSV.read(joinpath(base_path, imputed_path), DataFrame)"
   ]
  },
  {
   "cell_type": "code",
   "execution_count": null,
   "metadata": {},
   "outputs": [],
   "source": [
    "print(describe(imputed,:detailed)) # all columns are numeric. Have been imputed before"
   ]
  },
  {
   "cell_type": "code",
   "execution_count": null,
   "metadata": {},
   "outputs": [],
   "source": [
    "n_0= nrow(imputed)\n",
    "n_1=ncol(imputed) \n",
    "print(\"Shape: ($n_0,$n_1)\")"
   ]
  },
  {
   "cell_type": "code",
   "execution_count": null,
   "metadata": {},
   "outputs": [],
   "source": [
    "MLJ.schema(imputed)"
   ]
  },
  {
   "cell_type": "code",
   "execution_count": null,
   "metadata": {},
   "outputs": [],
   "source": [
    "to_coerce_ordered= [\"PAT_SEX\"]\n",
    "\n",
    "for col in to_coerce_ordered \n",
    "    display(\"Coercing column $col to OrderedFactor\")\n",
    "    imputed[!,col] = MLJ.coerce(imputed[!,col], OrderedFactor)\n",
    "    \n",
    "\n",
    "    display(\"--- Levels of the converted column ---\")\n",
    "    display(levels(imputed[!,col]))\n",
    "\n",
    "    display(\"--- New MLJ schema ---\")\n",
    "    display(MLJ.schema(imputed))\n",
    "end "
   ]
  },
  {
   "cell_type": "markdown",
   "metadata": {},
   "source": [
    "### TRAIN TEST SPLIT "
   ]
  },
  {
   "cell_type": "code",
   "execution_count": null,
   "metadata": {},
   "outputs": [],
   "source": [
    "y, X= unpack(imputed, ==(:PAT_AGE) ; shuffle=true,rng=1234);\n",
    "\n",
    "(Xtrain, Xtest), (ytrain, ytest)= partition((X,y), 0.8;\n",
    "          shuffle=true,\n",
    "          rng=1234,\n",
    "          multi=true);\n",
    "\n",
    "# Train shape\n",
    "n_0= nrow(Xtrain)\n",
    "n_1=ncol(Xtrain) \n",
    "display(\"Train Shape: ($n_0,$n_1)\")\n",
    "\n",
    "# Test shape\n",
    "n_0= nrow(Xtest)\n",
    "n_1=ncol(Xtest) \n",
    "display(\"Test Shape: ($n_0,$n_1)\")"
   ]
  },
  {
   "cell_type": "markdown",
   "metadata": {},
   "source": [
    "### MODEL SEARCH \n",
    "\n",
    "See which models can be trained on data. "
   ]
  },
  {
   "cell_type": "code",
   "execution_count": null,
   "metadata": {},
   "outputs": [],
   "source": [
    "for m in models(matching(X, y))\n",
    "    display(rpad(m.name, 30) * \"Package : $(m.package_name)\")\n",
    "end"
   ]
  },
  {
   "cell_type": "markdown",
   "metadata": {},
   "source": [
    "### Load models "
   ]
  },
  {
   "cell_type": "code",
   "execution_count": null,
   "metadata": {},
   "outputs": [],
   "source": [
    "load_path(\"RandomForestRegressor\", pkg=\"DecisionTree\")"
   ]
  },
  {
   "cell_type": "code",
   "execution_count": null,
   "metadata": {},
   "outputs": [],
   "source": [
    "load_path(\"DecisionTreeRegressor\", pkg=\"DecisionTree\")"
   ]
  },
  {
   "cell_type": "markdown",
   "metadata": {},
   "source": [
    "#### Train Decision tree "
   ]
  },
  {
   "cell_type": "code",
   "execution_count": null,
   "metadata": {},
   "outputs": [],
   "source": [
    "Tree = @load DecisionTreeRegressor pkg=DecisionTree\n",
    "tree = Tree()\n",
    "\n",
    "mach = machine(tree, Xtrain, ytrain)"
   ]
  },
  {
   "cell_type": "code",
   "execution_count": null,
   "metadata": {},
   "outputs": [],
   "source": [
    "# Train algorithm \n",
    "fit!(mach)"
   ]
  },
  {
   "cell_type": "code",
   "execution_count": null,
   "metadata": {},
   "outputs": [],
   "source": [
    "fitted_params(mach) "
   ]
  },
  {
   "cell_type": "code",
   "execution_count": null,
   "metadata": {},
   "outputs": [],
   "source": [
    "cv=CV(nfolds=5)\n",
    "evaluate!(mach, resampling=cv,measure=[rms, mae], verbosity=0)"
   ]
  },
  {
   "cell_type": "markdown",
   "metadata": {},
   "source": [
    "#### Train RF "
   ]
  },
  {
   "cell_type": "code",
   "execution_count": null,
   "metadata": {},
   "outputs": [],
   "source": [
    "RF = @load RandomForestRegressor pkg=DecisionTree\n",
    "rf = RF()\n",
    "@doc RF"
   ]
  },
  {
   "cell_type": "code",
   "execution_count": null,
   "metadata": {},
   "outputs": [],
   "source": [
    "# Options ---\n",
    "param_max_depth = range(rf, :max_depth; upper=20, lower=-1)\n",
    "param_min_samples_leaf = range(rf, :max_depth; upper=200, lower=1)\n",
    "param_min_samples_split = range(rf, :min_samples_split, upper=30, lower=2)\n",
    "param_n_subfeatures = range(rf, :n_subfeatures, upper=0, lower= -1)\n",
    "param_n_trees = range(rf, :n_trees, upper=4000, lower= 50)\n",
    "param_sampling_fraction = range(rf, :sampling_fraction, upper=0.9, lower=0.5)    \n",
    "\n",
    "# Ranges ---\n",
    "params_rf = [\n",
    "    param_max_depth,\n",
    "    param_min_samples_leaf,\n",
    "    param_min_samples_split,\n",
    "    param_n_subfeatures,\n",
    "    param_n_trees,\n",
    "    param_sampling_fraction\n",
    "    ]\n",
    "#mach_rf = machine(rf, Xtrain, ytrain)"
   ]
  },
  {
   "cell_type": "code",
   "execution_count": null,
   "metadata": {},
   "outputs": [],
   "source": [
    "tuning_forest = TunedModel(model=rf,\n",
    "    tuning=Grid(resolution=2),\n",
    "    resampling=CV(nfolds=2,rng=123),\n",
    "    range=params_rf,\n",
    "    measure=mae);\n",
    "\n",
    "mach_tuned = machine(tuning_forest, Xtrain, ytrain);\n"
   ]
  },
  {
   "cell_type": "code",
   "execution_count": null,
   "metadata": {},
   "outputs": [],
   "source": [
    "# Train algorithm \n",
    "fit!(mach_tuned)"
   ]
  },
  {
   "cell_type": "code",
   "execution_count": null,
   "metadata": {},
   "outputs": [],
   "source": [
    "plot(mach_tuned)"
   ]
  },
  {
   "cell_type": "code",
   "execution_count": null,
   "metadata": {},
   "outputs": [],
   "source": [
    "#fitted_params(mach_rf) "
   ]
  },
  {
   "cell_type": "code",
   "execution_count": null,
   "metadata": {},
   "outputs": [],
   "source": [
    "#evaluate!(mach_rf, resampling=cv,measure=[rms, mae], verbosity=1)"
   ]
  },
  {
   "cell_type": "code",
   "execution_count": null,
   "metadata": {},
   "outputs": [],
   "source": [
    "report(mach_tuned).history"
   ]
  },
  {
   "cell_type": "markdown",
   "metadata": {},
   "source": []
  }
 ],
 "metadata": {
  "kernelspec": {
   "display_name": "Julia 1.7.1",
   "language": "julia",
   "name": "julia-1.7"
  },
  "language_info": {
   "file_extension": ".jl",
   "mimetype": "application/julia",
   "name": "julia",
   "version": "1.7.1"
  },
  "orig_nbformat": 4
 },
 "nbformat": 4,
 "nbformat_minor": 2
}
